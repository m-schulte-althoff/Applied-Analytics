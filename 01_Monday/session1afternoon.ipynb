{
 "cells": [
  {
   "cell_type": "markdown",
   "id": "d1a9424f-8f8c-467d-a5d0-8f08ce5c8d6f",
   "metadata": {},
   "source": [
    "#### Task A\n",
    "Create a Data Audit for the Pima Indians Diabetes Database. The audit should cover:\n"
   ]
  },
  {
   "cell_type": "markdown",
   "id": "d2f3dca4-0e1f-4e83-a273-00331c96dce8",
   "metadata": {},
   "source": [
    "    1. Data Overview & Structure:\n",
    "\t\t\t- Provide a summary of the dataset.\n",
    "\t\t\t- Identify the number of rows and columns.\n",
    "\t\t\t- List all variables names and their data types.\n",
    "\t\t\t- Classify each variable as categorical or numerical.\t"
   ]
  },
  {
   "cell_type": "code",
   "execution_count": null,
   "id": "411339e5-90e9-4b96-88cb-74561ddc9465",
   "metadata": {},
   "outputs": [],
   "source": []
  },
  {
   "cell_type": "markdown",
   "id": "2e32afad-6fa1-4e6f-be80-fec014a2985a",
   "metadata": {},
   "source": [
    "    2. Summary Statistics:\n",
    "\t\t\t- Compute key statistics such as mean, median, minimum, maximum, and standard deviation.\n",
    "\t\t\t- Create a histogram for each variable.\n",
    "   \t\t\t- Identify any unusual values that stand out and possible skew of the data."
   ]
  },
  {
   "cell_type": "code",
   "execution_count": null,
   "id": "52131da0-3d10-4625-ba26-458a0e50ff91",
   "metadata": {},
   "outputs": [],
   "source": []
  },
  {
   "cell_type": "markdown",
   "id": "2561d4cc-b1ff-42ad-adf1-ef1be179866e",
   "metadata": {},
   "source": [
    "    3. Outlier:\n",
    "\t\t\t- Decide on a formal method to detect univariate outliers.\n",
    "\t\t\t- Report the number of outliers per variable.\n",
    "\t\t\t- Create scatterplots for each combination of variables.\n",
    "\t\t\t- Can you identify possible multivariate outliers that you did not detect as univariate outliers?"
   ]
  },
  {
   "cell_type": "code",
   "execution_count": null,
   "id": "09470c4f-15eb-40e0-8fed-012ccfdb6a9e",
   "metadata": {},
   "outputs": [],
   "source": []
  },
  {
   "cell_type": "markdown",
   "id": "9e34775a-86bc-4e50-8c05-bb0b41696ce2",
   "metadata": {},
   "source": [
    "    3. Outlier:\n",
    "\t\t\t- Decide on a formal method to detect univariate outliers.\n",
    "\t\t\t- Report the number of outliers per variable.\n",
    "\t\t\t- Create scatterplots for each combination of variables.\n",
    "\t\t\t- Can you identify possible multivariate outliers that you did not detect as univariate outliers?"
   ]
  },
  {
   "cell_type": "code",
   "execution_count": null,
   "id": "a1cf0b32-9157-4dbd-a2a6-e50f12f74dbf",
   "metadata": {},
   "outputs": [],
   "source": []
  },
  {
   "cell_type": "markdown",
   "id": "1d2e0916-f276-4b07-97a1-b48c837485fd",
   "metadata": {},
   "source": [
    "    5. Correlations.\n",
    "\t\t\t- Create a correlation matrix for the dataset.\n",
    "\t\t\t- Visualize the correlation matrix."
   ]
  },
  {
   "cell_type": "code",
   "execution_count": null,
   "id": "ab8ca5c1-a2e8-429b-b240-a51dd8e68732",
   "metadata": {},
   "outputs": [],
   "source": []
  },
  {
   "cell_type": "markdown",
   "id": "4caca47b-dc71-4e91-b711-0cbf9f2cf00e",
   "metadata": {},
   "source": [
    "#### Task B\n",
    "Based on your Data Audit, prepare your data for further analysis by handling outliers and missing data.\n"
   ]
  },
  {
   "cell_type": "code",
   "execution_count": null,
   "id": "17916835-5b8a-41ba-ae4f-f77657f178ea",
   "metadata": {},
   "outputs": [],
   "source": []
  },
  {
   "cell_type": "markdown",
   "id": "ff7cb281-773e-45e2-86cd-71b8a6012c4f",
   "metadata": {},
   "source": [
    "#### Task C\n",
    "Test different methods to sample training and test data from the dataset. Compare the sampled datasets based on the descriptive methods you have learned and evaluate which sampling method worked best."
   ]
  },
  {
   "cell_type": "code",
   "execution_count": null,
   "id": "93368d96-c9b6-43e8-919f-c8be32089da0",
   "metadata": {},
   "outputs": [],
   "source": []
  }
 ],
 "metadata": {
  "kernelspec": {
   "display_name": "pimaIndianData",
   "language": "python",
   "name": "python3"
  },
  "language_info": {
   "codemirror_mode": {
    "name": "ipython",
    "version": 3
   },
   "file_extension": ".py",
   "mimetype": "text/x-python",
   "name": "python",
   "nbconvert_exporter": "python",
   "pygments_lexer": "ipython3",
   "version": "3.11.11"
  }
 },
 "nbformat": 4,
 "nbformat_minor": 5
}
